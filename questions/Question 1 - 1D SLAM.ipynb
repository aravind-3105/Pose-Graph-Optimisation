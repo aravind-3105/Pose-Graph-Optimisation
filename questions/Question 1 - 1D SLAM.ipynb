{
 "cells": [
  {
   "cell_type": "markdown",
   "id": "posted-twist",
   "metadata": {},
   "source": [
    "# Question 1:  Pose Graph Optimization for 1D SLAM"
   ]
  },
  {
   "cell_type": "markdown",
   "id": "chemical-andorra",
   "metadata": {},
   "source": [
    "A solved example for 1D SLAM which optimizes for pose variables using weighted least squares method (Gauss Newton) has been explained in the class. You can view it at `examples/1D-SLAM.ipynb`. Your first task is to code this from scratch.\n",
    "\n",
    "For this section, you have to calculate Jacobian analytically yourself and use it. However, you can check how correct it is using `jax`'s `jacobian`. Its usage is explained in the supplementary notebook (`examples/`)."
   ]
  },
  {
   "cell_type": "markdown",
   "id": "fleet-digest",
   "metadata": {},
   "source": [
    "## How to get started?\n",
    "\n",
    "1. Go through the example and understand the optimization procedure.\n",
    "2. Generate the data as in the example.\n",
    "3. Write the derivatives of the function with respect to the constraints\n",
    "4. Create the final jacobian and write the update steps using Gauss Newton\n",
    "\n",
    "This tiny example will help make sense of the next question, as it's largely just an extension of this."
   ]
  },
  {
   "cell_type": "markdown",
   "id": "tough-brighton",
   "metadata": {},
   "source": [
    "Finally, plot the loop closure constraint, poses, and error at every iteration as well. Since this is a one dimensional example, you can just assume x = y."
   ]
  },
  {
   "cell_type": "code",
   "execution_count": 1,
   "id": "multiple-stomach",
   "metadata": {},
   "outputs": [],
   "source": [
    "import os\n",
    "import math\n",
    "import numpy as np\n",
    "import matplotlib.pyplot as plt\n",
    "import jax.numpy as jnp\n",
    "from jax import jacfwd\n",
    "%matplotlib inline"
   ]
  },
  {
   "cell_type": "code",
   "execution_count": 2,
   "id": "f6bfa142-d8e1-4463-9d5f-d1dff8db98e8",
   "metadata": {},
   "outputs": [],
   "source": [
    "def fux(X,U):\n",
    "    funX = []\n",
    "    nodes = X.shape[0]\n",
    "    for i in range(nodes):\n",
    "        # Control Constraints for 0-4: x(i) + u(i) - x(i+1)\n",
    "        # Loop Constraints : x(0) + (Loop Constraint) - x(len(x))\n",
    "        # Last line: x(0)\n",
    "        if(i != nodes-1):\n",
    "            val = X[i] + U[i] - X[i+1]\n",
    "        else:\n",
    "            val = X[0] + U[i] - X[nodes-1]\n",
    "        funX.append(val)\n",
    "    funX.append(X[0])\n",
    "    return funX"
   ]
  },
  {
   "cell_type": "code",
   "execution_count": 7,
   "id": "85adcfb2-dbe5-4748-a41b-b0e5492366f3",
   "metadata": {},
   "outputs": [],
   "source": [
    "def frobNorm(P1, P2, str1=\"mat1\", str2=\"mat2\"):\n",
    "    jnp.set_printoptions(suppress=True)\n",
    "    val = jnp.linalg.norm(P1 - P2, 'fro')\n",
    "    print(f\"Frobenius norm between {str1} and {str2} is: {val}\")"
   ]
  },
  {
   "cell_type": "code",
   "execution_count": 3,
   "id": "ea50639b-4766-4b9e-aee2-3502fd393418",
   "metadata": {},
   "outputs": [
    {
     "name": "stderr",
     "output_type": "stream",
     "text": [
      "WARNING:absl:No GPU/TPU found, falling back to CPU. (Set TF_CPP_MIN_LOG_LEVEL=0 and rerun for more info.)\n"
     ]
    }
   ],
   "source": [
    "Ugt = jnp.array([1.0,1.0,1.0,-3.0,0.0])\n",
    "Xgt = jnp.array([0.0,1.0,2.0,3.0,0.0])\n",
    "\n",
    "Xobs = jnp.array([0.0,1.1,2.1,3.2,0.5])\n",
    "Uobs = jnp.array([1.1,1.0,1.1,-2.7,0.0])\n",
    "\n",
    "OMG = jnp.array([[100.0,0,0,0,0,0],\n",
    "           [0,100.0,0,0,0,0],\n",
    "           [0,0,100.0,0,0,0],\n",
    "           [0,0,0,100.0,0,0],\n",
    "           [0,0,0,0,100.0,0],\n",
    "           [0,0,0,0,0,1000.0]])\n",
    "J = jnp.array([[1,-1,0,0,0],\n",
    "               [0,1,-1,0,0],\n",
    "               [0,0,1,-1,0],\n",
    "               [0,0,0,1,-1],\n",
    "               [1,0,0,0,-1],\n",
    "               [1,0,0,0,0]])\n",
    "Error = []"
   ]
  },
  {
   "cell_type": "code",
   "execution_count": 5,
   "id": "11db23cc-c201-444a-a069-89f5568d4719",
   "metadata": {},
   "outputs": [
    {
     "name": "stdout",
     "output_type": "stream",
     "text": [
      "Updated Xobs = [-3.5764103e-10  1.0000000e+00  1.9000000e+00  2.9000001e+00\n",
      "  9.9999964e-02]\n",
      "Updated Xobs = [-2.3842642e-10  1.0000000e+00  1.9000000e+00  2.9000001e+00\n",
      "  1.0000000e-01]\n",
      "Updated Xobs = [-3.278278e-10  1.000000e+00  1.900000e+00  2.900000e+00  1.000000e-01]\n",
      "Updated Xobs = [-3.2782868e-10  1.0000000e+00  1.9000000e+00  2.9000001e+00\n",
      "  1.0000000e-01]\n",
      "Updated Xobs = [-3.278278e-10  1.000000e+00  1.900000e+00  2.900000e+00  1.000000e-01]\n",
      "Updated Xobs = [-3.2782868e-10  1.0000000e+00  1.9000000e+00  2.9000001e+00\n",
      "  1.0000000e-01]\n",
      "Updated Xobs = [-3.278278e-10  1.000000e+00  1.900000e+00  2.900000e+00  1.000000e-01]\n",
      "Updated Xobs = [-3.2782868e-10  1.0000000e+00  1.9000000e+00  2.9000001e+00\n",
      "  1.0000000e-01]\n",
      "Updated Xobs = [-3.278278e-10  1.000000e+00  1.900000e+00  2.900000e+00  1.000000e-01]\n",
      "Updated Xobs = [-3.2782868e-10  1.0000000e+00  1.9000000e+00  2.9000001e+00\n",
      "  1.0000000e-01]\n",
      "Updated Xobs = [-3.278278e-10  1.000000e+00  1.900000e+00  2.900000e+00  1.000000e-01]\n",
      "Updated Xobs = [-3.2782868e-10  1.0000000e+00  1.9000000e+00  2.9000001e+00\n",
      "  1.0000000e-01]\n",
      "Updated Xobs = [-3.278278e-10  1.000000e+00  1.900000e+00  2.900000e+00  1.000000e-01]\n",
      "Updated Xobs = [-3.2782868e-10  1.0000000e+00  1.9000000e+00  2.9000001e+00\n",
      "  1.0000000e-01]\n",
      "Updated Xobs = [-3.278278e-10  1.000000e+00  1.900000e+00  2.900000e+00  1.000000e-01]\n"
     ]
    }
   ],
   "source": [
    "for i in range(15):\n",
    "    funX = fux(Xobs,Uobs)\n",
    "#     b = (jnp.matmul((J.T),(OMG.T)))\n",
    "#     #print(b.shape)\n",
    "    b = jnp.matmul(jnp.matmul((J.T),(OMG.T)),jnp.array(funX))\n",
    "    H = jnp.matmul(jnp.matmul((J.T),(OMG)),J)\n",
    "    deltaX = jnp.matmul(jnp.linalg.pinv(H),b)\n",
    "    Xobs = Xobs - deltaX\n",
    "#     err = get_error(pos, odometer, weights)\n",
    "    print(\"Updated Xobs = \"+str(Xobs))\n",
    "    print(\n",
    "    \n",
    "f = lambda Xobs: fux(Xobs,Uobs) # Now f is just a function of variable to be differentiated\n",
    "J_a = jacfwd(f)\n",
    "J_ac = J_a(Xobs)"
   ]
  },
  {
   "cell_type": "code",
   "execution_count": 6,
   "id": "0530c785-158d-4154-a705-f77fd515cc64",
   "metadata": {},
   "outputs": [
    {
     "name": "stdout",
     "output_type": "stream",
     "text": [
      "Matches\n"
     ]
    }
   ],
   "source": [
    "if jnp.allclose(J_ac, J):\n",
    "    print(\"Matches\")\n",
    "else:\n",
    "    print(\"Doesn't Match\")"
   ]
  }
 ],
 "metadata": {
  "kernelspec": {
   "display_name": "DIP",
   "language": "python",
   "name": "dip"
  },
  "language_info": {
   "codemirror_mode": {
    "name": "ipython",
    "version": 3
   },
   "file_extension": ".py",
   "mimetype": "text/x-python",
   "name": "python",
   "nbconvert_exporter": "python",
   "pygments_lexer": "ipython3",
   "version": "3.6.9"
  }
 },
 "nbformat": 4,
 "nbformat_minor": 5
}
