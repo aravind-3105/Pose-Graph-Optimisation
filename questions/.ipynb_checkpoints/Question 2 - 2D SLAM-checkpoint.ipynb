{
 "cells": [
  {
   "cell_type": "markdown",
   "id": "separated-checkout",
   "metadata": {},
   "source": [
    "# Question 2:  Pose Graph Optimization for 2D SLAM"
   ]
  },
  {
   "cell_type": "markdown",
   "id": "bearing-connecticut",
   "metadata": {},
   "source": [
    "## Objective\n",
    "A robot is travelling in a oval trajectory. It is equipped with wheel odometry for odometry information and RGBD sensors for loop closure information. Due to noise in wheel odometry it generates a noisy estimate of the trajectory. Our task is to use loop closure pairs to correct the drift.\n",
    "\n",
    "We pose this problem as a graph optimization problem. In our graph, poses are the vertices and constraints are the edges. "
   ]
  },
  {
   "cell_type": "markdown",
   "id": "helpful-tactics",
   "metadata": {},
   "source": [
    "## Given: \n",
    "In practical scenarios, we'd obtain the following from our sensors after some post-processing:\n",
    "\n",
    "1. Initial position\n",
    "2. Odometry Contraints/Edges: This \"edge\" information tells us relative transformation between two nodes. These two nodes are consecutive in the case of Odometry but not in the case of Loop Closure (next point).\n",
    "3. Loop Closure Contraints/Edges: Remember that while optimizing, you have another kind of \"anchor\" edge as you've seen in 1. solved example.\n",
    "\n",
    "You have been given a text file named `edges.txt` (in `data/`) which has all the above 3 and it follows G2O's format (as explained in class, [link here](https://saishubodh.notion.site/G2O-Edge-Types-d9f9ff63c77c4ceeb84b1e49085004e3) ). The ground truth is `gt.txt`."
   ]
  },
  {
   "cell_type": "markdown",
   "id": "clear-poster",
   "metadata": {},
   "source": [
    "## Steps:\n",
    "\n",
    "### Part 1\n",
    "\n",
    "Using the following motion model, you have to first generate the \"initialization\" for all the poses/vertices using the \"Given\" information. Just like in the 1D case.\n",
    "$$x_{k+1} = x_{k} + \\Delta x_{(k,k+1)} \\cos(\\theta_k) - \\Delta y_{(k,k+1)} \\sin(\\theta_k) \\\\\n",
    "y_{k+1} = y_{k} + \\Delta y_{(k,k+1)} \\cos(\\theta_k) + \\Delta x_{(k,k+1)} \\sin(\\theta_k) \\\\\n",
    "\\theta_{k+1} = \\theta_{k}+  \\Delta \\theta_{(k,k+1)} \\tag{3}$$\n",
    "\n",
    "Even the loop closure nodes are related by the above model, except that it need not necessarily be consecutive notes k and k+1.\n",
    "\n",
    "Save this initial trajectory as `edges-poses.g2o`.\n",
    "\n",
    "If you plot the initialized poses using odometry information, you need to get as the right plot below (this is the \"noisy trajectory\"): (Left one is the ground truth)\n",
    "![robot-poses-MR-P1.png](../misc/robot-poses-MR-P1.png)\n",
    "\n",
    "(Use `draw()` helper function or `g2o_viewer` or `EVO`)"
   ]
  },
  {
   "cell_type": "code",
   "execution_count": 1,
   "id": "007ede2a-1598-4735-9ce4-fd24d31904de",
   "metadata": {},
   "outputs": [],
   "source": [
    "import os\n",
    "import math\n",
    "import numpy as np\n",
    "import matplotlib.pyplot as plt\n",
    "import jax.numpy as jnp\n",
    "from jax import jacfwd\n",
    "# %matplotlib inline\n",
    "plt.style.use('seaborn')"
   ]
  },
  {
   "cell_type": "code",
   "execution_count": 2,
   "id": "ef2c6e47-f257-469b-b323-efbebd24da8c",
   "metadata": {},
   "outputs": [],
   "source": [
    "def draw(X, Y, THETA):\n",
    "    ax = plt.subplot(111)\n",
    "    ax.plot(X, Y, 'ro')\n",
    "    plt.plot(X, Y, 'c-')\n",
    "\n",
    "    for i in range(len(THETA)):\n",
    "        x2 = 0.25*math.cos(THETA[i]) + X[i]\n",
    "        y2 = 0.25*math.sin(THETA[i]) + Y[i]\n",
    "        plt.plot([X[i], x2], [Y[i], y2], 'g->')\n",
    "    plt.show()\n",
    "    \n",
    "def readVertex(fileName):\n",
    "    f = open(fileName, 'r')\n",
    "    A = f.readlines()\n",
    "    f.close()\n",
    "\n",
    "    x_arr = []\n",
    "    y_arr = []\n",
    "    theta_arr = []\n",
    "\n",
    "    for line in A:\n",
    "        if \"VERTEX_SE2\" in line:\n",
    "            (ver, ind, x, y, theta) = line.split()\n",
    "            x_arr.append(float(x))\n",
    "            y_arr.append(float(y))\n",
    "            theta_arr.append(float(theta.rstrip('\\n')))\n",
    "\n",
    "    return jnp.array([x_arr, y_arr, theta_arr])\n",
    "\n",
    "def readEdge(fileName):\n",
    "    f = open(fileName, 'r')\n",
    "    A = f.readlines()\n",
    "    f.close()\n",
    "\n",
    "    ind1_arr = []\n",
    "    ind2_arr = []\n",
    "    del_x = []\n",
    "    del_y = []\n",
    "    del_theta = []\n",
    "\n",
    "    for line in A:\n",
    "        if \"EDGE_SE2\" in line:\n",
    "            (edge, ind1, ind2, dx, dy, dtheta, _, _, _, _, _, _) = line.split()\n",
    "            ind1_arr.append(int(ind1))\n",
    "            ind2_arr.append(int(ind2))\n",
    "            del_x.append(float(dx))\n",
    "            del_y.append(float(dy))\n",
    "            del_theta.append(float(dtheta))\n",
    "\n",
    "    return (jnp.array( ind1_arr), jnp.array(ind2_arr), jnp.array(del_x), jnp.array(del_y), jnp.array(del_theta))"
   ]
  },
  {
   "cell_type": "code",
   "execution_count": 3,
   "id": "ade1df49-7e9a-48df-9cb6-733e7b283f33",
   "metadata": {},
   "outputs": [],
   "source": [
    "def motionModel(x,delX,y,delY,ang,delAng):\n",
    "    sA = jnp.sin(ang)\n",
    "    cA = jnp.cos(ang)\n",
    "    XX = x + delX*cA - delY*sA\n",
    "    YY = y + delY*cA + delX*sA\n",
    "    newAng = ang + delAng\n",
    "    out = jnp.array([XX,YY,newAng])\n",
    "    return out"
   ]
  },
  {
   "cell_type": "code",
   "execution_count": 4,
   "id": "ed0ec13c-128b-4f13-a983-28857558ba23",
   "metadata": {},
   "outputs": [
    {
     "name": "stderr",
     "output_type": "stream",
     "text": [
      "WARNING:absl:No GPU/TPU found, falling back to CPU. (Set TF_CPP_MIN_LOG_LEVEL=0 and rerun for more info.)\n"
     ]
    }
   ],
   "source": [
    "edgeFile = \"../data/edges.txt\"\n",
    "ver = readVertex(edgeFile)\n",
    "edge = readEdge(edgeFile)"
   ]
  },
  {
   "cell_type": "code",
   "execution_count": 5,
   "id": "d3371c8c-34e8-4370-abf0-5e12795073ca",
   "metadata": {},
   "outputs": [
    {
     "name": "stdout",
     "output_type": "stream",
     "text": [
      "[[-5.]\n",
      " [-8.]\n",
      " [ 0.]] (3, 1)\n",
      "(5, 139)\n"
     ]
    }
   ],
   "source": [
    "print(ver,ver.shape)\n",
    "print(jnp.shape(edge))"
   ]
  },
  {
   "cell_type": "code",
   "execution_count": 6,
   "id": "eca5e55b-06f7-4ada-842f-f9019488e0e6",
   "metadata": {},
   "outputs": [
    {
     "name": "stdout",
     "output_type": "stream",
     "text": [
      "[DeviceArray([-5., -8.,  0.], dtype=float32)]\n"
     ]
    }
   ],
   "source": [
    "initX = ver[0][0]\n",
    "initY = ver[1][0]\n",
    "initA = ver[2][0]\n",
    "# initial = jnp.array([initX, initY, initA])\n",
    "# poseList = [initial]\n",
    "# print(poseList)\n",
    "# x = ver[0][0]\n",
    "# y = ver[1][0]\n",
    "# theta = ver[2][0]\n",
    "\n",
    "poseList = []\n",
    "poseList.append(jnp.array([initX, initY, initA]))\n",
    "print(poseList)"
   ]
  },
  {
   "cell_type": "code",
   "execution_count": 7,
   "id": "ff3fce94-eb7a-4933-a453-8a28e3c65ec0",
   "metadata": {},
   "outputs": [
    {
     "name": "stdout",
     "output_type": "stream",
     "text": [
      "[  0   1   2   3   4   5   6   7   8   9  10  11  12  13  14  15  16  17\n",
      "  18  19  20  21  22  23  24  25  26  27  28  29  30  31  32  33  34  35\n",
      "  36  37  38  39  40  41  42  43  44  45  46  47  48  49  50  51  52  53\n",
      "  54  55  56  57  58  59  60  61  62  63  64  65  66  67  68  69  70  71\n",
      "  72  73  74  75  76  77  78  79  80  81  82  83  84  85  86  87  88  89\n",
      "  90  91  92  93  94  95  96  97  98  99 100 101 102 103 104 105 106 107\n",
      " 108 109 110 111 112 113 114 115 116 117 118   0   2   4   6   8  10  12\n",
      "  14  16  18  20  22  24  26  28  30  32  34  36  38]\n",
      "(139,)\n"
     ]
    }
   ],
   "source": [
    "#To plot the initalised poses, consider only edge[0]\n",
    "initEdge = jnp.array(edge[0])\n",
    "print(initEdge)\n",
    "print(initEdge.shape)"
   ]
  },
  {
   "cell_type": "code",
   "execution_count": 8,
   "id": "9d9b820b-b179-4981-b8cd-1ff85f75e92c",
   "metadata": {},
   "outputs": [],
   "source": [
    "def next_pose(x, y, theta, del_x, del_y, del_theta):\n",
    "    x_new = x + del_x * jnp.cos(theta) - del_y * jnp.sin(theta)\n",
    "    y_new = y + del_y * jnp.cos(theta) + del_x * jnp.sin(theta)\n",
    "    theta_new = theta + del_theta\n",
    "    return jnp.array([x_new, y_new, theta_new])"
   ]
  },
  {
   "cell_type": "code",
   "execution_count": 9,
   "id": "496ee99a-041d-44e2-8551-35683511e2a7",
   "metadata": {},
   "outputs": [],
   "source": [
    "for i in range(edge[0].shape[0]):\n",
    "    ind1 = edge[0][i]\n",
    "    ind2 = edge[1][i]\n",
    "    diff = ind2 - ind1\n",
    "    if abs(diff)>1:\n",
    "        break\n",
    "    delX = edge[2][i]\n",
    "    delY = edge[3][i]\n",
    "    delA = edge[4][i]\n",
    "    if i==0:\n",
    "        newPose = motionModel(initX,delX,initY,delY,initA,delA)\n",
    "    else: \n",
    "        newPose = motionModel(newPose[0],delX,newPose[1],delY,newPose[2],delA)\n",
    "    newPose = jnp.array(newPose)\n",
    "    poseList.append(newPose)"
   ]
  },
  {
   "cell_type": "code",
   "execution_count": 10,
   "id": "1859c672-023b-470f-8688-6eda972af61c",
   "metadata": {},
   "outputs": [],
   "source": [
    "poseList = jnp.array(poseList)"
   ]
  },
  {
   "cell_type": "code",
   "execution_count": 11,
   "id": "71f400ce-fa2b-4956-bec7-906ebaf779b0",
   "metadata": {},
   "outputs": [
    {
     "name": "stdout",
     "output_type": "stream",
     "text": [
      "(120, 3)\n"
     ]
    }
   ],
   "source": [
    "print(jnp.shape(poseList))"
   ]
  },
  {
   "cell_type": "code",
   "execution_count": 12,
   "id": "d2d0abc1-a06f-42ee-8c84-b025f3fc1042",
   "metadata": {},
   "outputs": [
    {
     "data": {
      "image/png": "[encoded data removed]",
      "text/plain": [
       "<Figure size 576x396 with 1 Axes>"
      ]
     },
     "metadata": {},
     "output_type": "display_data"
    }
   ],
   "source": [
    "draw(poseList[:,0], poseList[:,1], poseList[:,2])"
   ]
  },
  {
   "cell_type": "markdown",
   "id": "compatible-hearts",
   "metadata": {},
   "source": [
    "## Part 2\n",
    "\n",
    "Now calculate the residual and the Jacobian and update your parameters using LM.\n",
    "\n",
    "Use LM algorithm. Regarding Jacobian calculation, you can use `jax`'s `jacobian` as part of your main code. However, you still have to separately calculate it analytically and verify if it matches with `jax`'s `jacobian` using frobenius norm `frobNorm()`). Calculation and verification is compulsory, but it is your choice to use whichever as part of your optimization. Use whichever is faster. You can also visualise your Jacobian and see the structure of the matrix (just use `plt.imshow`).\n",
    "\n",
    "**Regarding LM iterations, stopping criterion, information matrix values.**\n",
    "\n",
    "1. As your iterations proceed, you have to print relevant information (iteration number and error value: [$F = \\frac{1}{2}  \\mathbf{f}^{\\top} \\mathbf{\\Omega} \\mathbf{f} $ (notes on non-linear LS)](https://saishubodh.notion.site/From-linear-algebra-to-non-linear-weighted-least-squares-optimization-13cf17d318be4d45bb8577c4d3ea4a02#32832dee7d6c4ab49581463d9b784f21) at every step).\n",
    "\n",
    "2. You have to show the plots (ground truth, noisy & optimized: all 3 in a single plot) at every 10 steps or so.\n",
    "\n",
    "3. You could start with information values of 500 for odom edges, 700 for loop closure edges, 1000 for anchor edge (same for all dimensions). However, you have to _heavily_ experiment with these values. (Given that you somehow know loop closure information is way more reliable than odometry.). At the end of your experimentation, your error $F = \\frac{1}{2}  \\mathbf{f}^{\\top} \\mathbf{\\Omega} \\mathbf{f} $ should by < 40. Explain your experimentation in detail using tables/plots etc if necessary.\n",
    "    \n",
    "Do not worry if you're not getting a perfect trajectory. Our parametrization was oversimplified for the sake of this project. With that being said, it is possible to get the error down to < 40 and make it at least look like an oval shaped trajectory, even if it doesn't perfectly resemble the ground truth. However, using `g2o` (seen later on), you will be getting a close to ground truth trajectory."
   ]
  },
  {
   "cell_type": "markdown",
   "id": "acute-swift",
   "metadata": {},
   "source": [
    "**Tip**\n",
    "\n",
    "Be sure to make your code modular and implement this in various stages. It will help you debug errors. Feel free to create helper functions in other files, just be sure to submit those as well. \n",
    "\n",
    "You are free to optimise your code using numba/Jax/torch if you wish, just ensure that you are not using any built in functions for any of the steps. It is only compulsory to verify your Jacobian using Jax."
   ]
  },
  {
   "cell_type": "code",
   "execution_count": null,
   "id": "simplified-array",
   "metadata": {},
   "outputs": [],
   "source": []
  },
  {
   "cell_type": "markdown",
   "id": "secondary-marshall",
   "metadata": {},
   "source": [
    "## Part 3\n",
    "\n",
    "- Write about the residuals you computed, its structure and shape. Also explain the structure of the Jacobian and its shape (Express the shape in terms of the number of vertices, loop constraints, and such, not exact numbers). \n",
    "- Write about the optimization process and any observations using intermediate plots and such. "
   ]
  },
  {
   "cell_type": "code",
   "execution_count": null,
   "id": "major-dealer",
   "metadata": {},
   "outputs": [],
   "source": []
  },
  {
   "cell_type": "markdown",
   "id": "hired-slide",
   "metadata": {},
   "source": [
    "## Part 4\n",
    "\n",
    "Write the final optimised trajectory as a g2o file. You can do this alongside any of the earlier parts."
   ]
  },
  {
   "cell_type": "code",
   "execution_count": null,
   "id": "polished-reform",
   "metadata": {},
   "outputs": [],
   "source": []
  }
 ],
 "metadata": {
  "kernelspec": {
   "display_name": "DIP",
   "language": "python",
   "name": "dip"
  },
  "language_info": {
   "codemirror_mode": {
    "name": "ipython",
    "version": 3
   },
   "file_extension": ".py",
   "mimetype": "text/x-python",
   "name": "python",
   "nbconvert_exporter": "python",
   "pygments_lexer": "ipython3",
   "version": "3.6.9"
  }
 },
 "nbformat": 4,
 "nbformat_minor": 5
}
